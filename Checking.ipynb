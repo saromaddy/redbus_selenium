{
 "cells": [
  {
   "cell_type": "code",
   "execution_count": 34,
   "metadata": {},
   "outputs": [],
   "source": [
    "from selenium import webdriver\n",
    "from selenium.webdriver.common.keys import Keys\n",
    "from selenium.webdriver.common.by import By\n",
    "import time\n",
    "import pandas as pd\n",
    "import sqlalchemy\n",
    "import json\n",
    "\n",
    "driver = webdriver.Chrome()\n",
    "\n",
    "driver.get('https://www.redbus.in/')\n",
    "driver.maximize_window()\n",
    "time.sleep(5)\n",
    "\n",
    "apsrtc = driver.find_elements(By.XPATH, \"/html/body/section/div[2]/main/div[3]/div[3]/div[2]/div/div[1]/div[1]/div[1]/div[2]/div[1]/div[1]\")\n",
    "apsrtc[0].click()\n",
    "time.sleep(5)\n",
    "\n",
    "# vijay_hyd = driver.find_elements(By.XPATH, '//*[@id=\"root\"]/div/div[4]/div[2]/div[1]/a')\n",
    "# vijay_hyd[0].click()\n",
    "# time.sleep(5)"
   ]
  },
  {
   "cell_type": "code",
   "execution_count": 35,
   "metadata": {},
   "outputs": [
    {
     "data": {
      "text/plain": [
       "[<selenium.webdriver.remote.webelement.WebElement (session=\"c71a554d4f2ec4aaa580aabffa3323c3\", element=\"f.5C44B24B23940A453EEE3B457DBABBD2.d.F5809D29CD889E26397C32ABFC83C5FF.e.123\")>,\n",
       " <selenium.webdriver.remote.webelement.WebElement (session=\"c71a554d4f2ec4aaa580aabffa3323c3\", element=\"f.5C44B24B23940A453EEE3B457DBABBD2.d.F5809D29CD889E26397C32ABFC83C5FF.e.124\")>,\n",
       " <selenium.webdriver.remote.webelement.WebElement (session=\"c71a554d4f2ec4aaa580aabffa3323c3\", element=\"f.5C44B24B23940A453EEE3B457DBABBD2.d.F5809D29CD889E26397C32ABFC83C5FF.e.125\")>,\n",
       " <selenium.webdriver.remote.webelement.WebElement (session=\"c71a554d4f2ec4aaa580aabffa3323c3\", element=\"f.5C44B24B23940A453EEE3B457DBABBD2.d.F5809D29CD889E26397C32ABFC83C5FF.e.126\")>,\n",
       " <selenium.webdriver.remote.webelement.WebElement (session=\"c71a554d4f2ec4aaa580aabffa3323c3\", element=\"f.5C44B24B23940A453EEE3B457DBABBD2.d.F5809D29CD889E26397C32ABFC83C5FF.e.127\")>,\n",
       " <selenium.webdriver.remote.webelement.WebElement (session=\"c71a554d4f2ec4aaa580aabffa3323c3\", element=\"f.5C44B24B23940A453EEE3B457DBABBD2.d.F5809D29CD889E26397C32ABFC83C5FF.e.128\")>,\n",
       " <selenium.webdriver.remote.webelement.WebElement (session=\"c71a554d4f2ec4aaa580aabffa3323c3\", element=\"f.5C44B24B23940A453EEE3B457DBABBD2.d.F5809D29CD889E26397C32ABFC83C5FF.e.129\")>,\n",
       " <selenium.webdriver.remote.webelement.WebElement (session=\"c71a554d4f2ec4aaa580aabffa3323c3\", element=\"f.5C44B24B23940A453EEE3B457DBABBD2.d.F5809D29CD889E26397C32ABFC83C5FF.e.130\")>,\n",
       " <selenium.webdriver.remote.webelement.WebElement (session=\"c71a554d4f2ec4aaa580aabffa3323c3\", element=\"f.5C44B24B23940A453EEE3B457DBABBD2.d.F5809D29CD889E26397C32ABFC83C5FF.e.131\")>,\n",
       " <selenium.webdriver.remote.webelement.WebElement (session=\"c71a554d4f2ec4aaa580aabffa3323c3\", element=\"f.5C44B24B23940A453EEE3B457DBABBD2.d.F5809D29CD889E26397C32ABFC83C5FF.e.132\")>,\n",
       " <selenium.webdriver.remote.webelement.WebElement (session=\"c71a554d4f2ec4aaa580aabffa3323c3\", element=\"f.5C44B24B23940A453EEE3B457DBABBD2.d.F5809D29CD889E26397C32ABFC83C5FF.e.123\")>,\n",
       " <selenium.webdriver.remote.webelement.WebElement (session=\"c71a554d4f2ec4aaa580aabffa3323c3\", element=\"f.5C44B24B23940A453EEE3B457DBABBD2.d.F5809D29CD889E26397C32ABFC83C5FF.e.124\")>,\n",
       " <selenium.webdriver.remote.webelement.WebElement (session=\"c71a554d4f2ec4aaa580aabffa3323c3\", element=\"f.5C44B24B23940A453EEE3B457DBABBD2.d.F5809D29CD889E26397C32ABFC83C5FF.e.125\")>,\n",
       " <selenium.webdriver.remote.webelement.WebElement (session=\"c71a554d4f2ec4aaa580aabffa3323c3\", element=\"f.5C44B24B23940A453EEE3B457DBABBD2.d.F5809D29CD889E26397C32ABFC83C5FF.e.126\")>,\n",
       " <selenium.webdriver.remote.webelement.WebElement (session=\"c71a554d4f2ec4aaa580aabffa3323c3\", element=\"f.5C44B24B23940A453EEE3B457DBABBD2.d.F5809D29CD889E26397C32ABFC83C5FF.e.127\")>,\n",
       " <selenium.webdriver.remote.webelement.WebElement (session=\"c71a554d4f2ec4aaa580aabffa3323c3\", element=\"f.5C44B24B23940A453EEE3B457DBABBD2.d.F5809D29CD889E26397C32ABFC83C5FF.e.128\")>,\n",
       " <selenium.webdriver.remote.webelement.WebElement (session=\"c71a554d4f2ec4aaa580aabffa3323c3\", element=\"f.5C44B24B23940A453EEE3B457DBABBD2.d.F5809D29CD889E26397C32ABFC83C5FF.e.129\")>,\n",
       " <selenium.webdriver.remote.webelement.WebElement (session=\"c71a554d4f2ec4aaa580aabffa3323c3\", element=\"f.5C44B24B23940A453EEE3B457DBABBD2.d.F5809D29CD889E26397C32ABFC83C5FF.e.130\")>,\n",
       " <selenium.webdriver.remote.webelement.WebElement (session=\"c71a554d4f2ec4aaa580aabffa3323c3\", element=\"f.5C44B24B23940A453EEE3B457DBABBD2.d.F5809D29CD889E26397C32ABFC83C5FF.e.131\")>,\n",
       " <selenium.webdriver.remote.webelement.WebElement (session=\"c71a554d4f2ec4aaa580aabffa3323c3\", element=\"f.5C44B24B23940A453EEE3B457DBABBD2.d.F5809D29CD889E26397C32ABFC83C5FF.e.132\")>,\n",
       " <selenium.webdriver.remote.webelement.WebElement (session=\"c71a554d4f2ec4aaa580aabffa3323c3\", element=\"f.5C44B24B23940A453EEE3B457DBABBD2.d.F5809D29CD889E26397C32ABFC83C5FF.e.123\")>,\n",
       " <selenium.webdriver.remote.webelement.WebElement (session=\"c71a554d4f2ec4aaa580aabffa3323c3\", element=\"f.5C44B24B23940A453EEE3B457DBABBD2.d.F5809D29CD889E26397C32ABFC83C5FF.e.124\")>,\n",
       " <selenium.webdriver.remote.webelement.WebElement (session=\"c71a554d4f2ec4aaa580aabffa3323c3\", element=\"f.5C44B24B23940A453EEE3B457DBABBD2.d.F5809D29CD889E26397C32ABFC83C5FF.e.125\")>,\n",
       " <selenium.webdriver.remote.webelement.WebElement (session=\"c71a554d4f2ec4aaa580aabffa3323c3\", element=\"f.5C44B24B23940A453EEE3B457DBABBD2.d.F5809D29CD889E26397C32ABFC83C5FF.e.126\")>,\n",
       " <selenium.webdriver.remote.webelement.WebElement (session=\"c71a554d4f2ec4aaa580aabffa3323c3\", element=\"f.5C44B24B23940A453EEE3B457DBABBD2.d.F5809D29CD889E26397C32ABFC83C5FF.e.127\")>,\n",
       " <selenium.webdriver.remote.webelement.WebElement (session=\"c71a554d4f2ec4aaa580aabffa3323c3\", element=\"f.5C44B24B23940A453EEE3B457DBABBD2.d.F5809D29CD889E26397C32ABFC83C5FF.e.128\")>,\n",
       " <selenium.webdriver.remote.webelement.WebElement (session=\"c71a554d4f2ec4aaa580aabffa3323c3\", element=\"f.5C44B24B23940A453EEE3B457DBABBD2.d.F5809D29CD889E26397C32ABFC83C5FF.e.129\")>,\n",
       " <selenium.webdriver.remote.webelement.WebElement (session=\"c71a554d4f2ec4aaa580aabffa3323c3\", element=\"f.5C44B24B23940A453EEE3B457DBABBD2.d.F5809D29CD889E26397C32ABFC83C5FF.e.130\")>,\n",
       " <selenium.webdriver.remote.webelement.WebElement (session=\"c71a554d4f2ec4aaa580aabffa3323c3\", element=\"f.5C44B24B23940A453EEE3B457DBABBD2.d.F5809D29CD889E26397C32ABFC83C5FF.e.131\")>,\n",
       " <selenium.webdriver.remote.webelement.WebElement (session=\"c71a554d4f2ec4aaa580aabffa3323c3\", element=\"f.5C44B24B23940A453EEE3B457DBABBD2.d.F5809D29CD889E26397C32ABFC83C5FF.e.132\")>,\n",
       " <selenium.webdriver.remote.webelement.WebElement (session=\"c71a554d4f2ec4aaa580aabffa3323c3\", element=\"f.5C44B24B23940A453EEE3B457DBABBD2.d.F5809D29CD889E26397C32ABFC83C5FF.e.123\")>,\n",
       " <selenium.webdriver.remote.webelement.WebElement (session=\"c71a554d4f2ec4aaa580aabffa3323c3\", element=\"f.5C44B24B23940A453EEE3B457DBABBD2.d.F5809D29CD889E26397C32ABFC83C5FF.e.124\")>,\n",
       " <selenium.webdriver.remote.webelement.WebElement (session=\"c71a554d4f2ec4aaa580aabffa3323c3\", element=\"f.5C44B24B23940A453EEE3B457DBABBD2.d.F5809D29CD889E26397C32ABFC83C5FF.e.125\")>,\n",
       " <selenium.webdriver.remote.webelement.WebElement (session=\"c71a554d4f2ec4aaa580aabffa3323c3\", element=\"f.5C44B24B23940A453EEE3B457DBABBD2.d.F5809D29CD889E26397C32ABFC83C5FF.e.126\")>,\n",
       " <selenium.webdriver.remote.webelement.WebElement (session=\"c71a554d4f2ec4aaa580aabffa3323c3\", element=\"f.5C44B24B23940A453EEE3B457DBABBD2.d.F5809D29CD889E26397C32ABFC83C5FF.e.127\")>,\n",
       " <selenium.webdriver.remote.webelement.WebElement (session=\"c71a554d4f2ec4aaa580aabffa3323c3\", element=\"f.5C44B24B23940A453EEE3B457DBABBD2.d.F5809D29CD889E26397C32ABFC83C5FF.e.128\")>,\n",
       " <selenium.webdriver.remote.webelement.WebElement (session=\"c71a554d4f2ec4aaa580aabffa3323c3\", element=\"f.5C44B24B23940A453EEE3B457DBABBD2.d.F5809D29CD889E26397C32ABFC83C5FF.e.129\")>,\n",
       " <selenium.webdriver.remote.webelement.WebElement (session=\"c71a554d4f2ec4aaa580aabffa3323c3\", element=\"f.5C44B24B23940A453EEE3B457DBABBD2.d.F5809D29CD889E26397C32ABFC83C5FF.e.130\")>,\n",
       " <selenium.webdriver.remote.webelement.WebElement (session=\"c71a554d4f2ec4aaa580aabffa3323c3\", element=\"f.5C44B24B23940A453EEE3B457DBABBD2.d.F5809D29CD889E26397C32ABFC83C5FF.e.131\")>,\n",
       " <selenium.webdriver.remote.webelement.WebElement (session=\"c71a554d4f2ec4aaa580aabffa3323c3\", element=\"f.5C44B24B23940A453EEE3B457DBABBD2.d.F5809D29CD889E26397C32ABFC83C5FF.e.132\")>,\n",
       " <selenium.webdriver.remote.webelement.WebElement (session=\"c71a554d4f2ec4aaa580aabffa3323c3\", element=\"f.5C44B24B23940A453EEE3B457DBABBD2.d.F5809D29CD889E26397C32ABFC83C5FF.e.123\")>,\n",
       " <selenium.webdriver.remote.webelement.WebElement (session=\"c71a554d4f2ec4aaa580aabffa3323c3\", element=\"f.5C44B24B23940A453EEE3B457DBABBD2.d.F5809D29CD889E26397C32ABFC83C5FF.e.124\")>,\n",
       " <selenium.webdriver.remote.webelement.WebElement (session=\"c71a554d4f2ec4aaa580aabffa3323c3\", element=\"f.5C44B24B23940A453EEE3B457DBABBD2.d.F5809D29CD889E26397C32ABFC83C5FF.e.125\")>,\n",
       " <selenium.webdriver.remote.webelement.WebElement (session=\"c71a554d4f2ec4aaa580aabffa3323c3\", element=\"f.5C44B24B23940A453EEE3B457DBABBD2.d.F5809D29CD889E26397C32ABFC83C5FF.e.126\")>,\n",
       " <selenium.webdriver.remote.webelement.WebElement (session=\"c71a554d4f2ec4aaa580aabffa3323c3\", element=\"f.5C44B24B23940A453EEE3B457DBABBD2.d.F5809D29CD889E26397C32ABFC83C5FF.e.127\")>,\n",
       " <selenium.webdriver.remote.webelement.WebElement (session=\"c71a554d4f2ec4aaa580aabffa3323c3\", element=\"f.5C44B24B23940A453EEE3B457DBABBD2.d.F5809D29CD889E26397C32ABFC83C5FF.e.128\")>,\n",
       " <selenium.webdriver.remote.webelement.WebElement (session=\"c71a554d4f2ec4aaa580aabffa3323c3\", element=\"f.5C44B24B23940A453EEE3B457DBABBD2.d.F5809D29CD889E26397C32ABFC83C5FF.e.129\")>,\n",
       " <selenium.webdriver.remote.webelement.WebElement (session=\"c71a554d4f2ec4aaa580aabffa3323c3\", element=\"f.5C44B24B23940A453EEE3B457DBABBD2.d.F5809D29CD889E26397C32ABFC83C5FF.e.130\")>,\n",
       " <selenium.webdriver.remote.webelement.WebElement (session=\"c71a554d4f2ec4aaa580aabffa3323c3\", element=\"f.5C44B24B23940A453EEE3B457DBABBD2.d.F5809D29CD889E26397C32ABFC83C5FF.e.131\")>,\n",
       " <selenium.webdriver.remote.webelement.WebElement (session=\"c71a554d4f2ec4aaa580aabffa3323c3\", element=\"f.5C44B24B23940A453EEE3B457DBABBD2.d.F5809D29CD889E26397C32ABFC83C5FF.e.132\")>]"
      ]
     },
     "execution_count": 35,
     "metadata": {},
     "output_type": "execute_result"
    }
   ],
   "source": [
    "def capture_all_apsrtc():\n",
    "    pagination_locator = \"//*[@id='root']/div/div[4]/div[12]/div\"\n",
    "    total_pages = driver.find_elements(By.XPATH,pagination_locator)\n",
    "    SRTC_locator = \"//a[@class = 'route']\"\n",
    "    all_apsrtc = []\n",
    "    for i in total_pages:\n",
    "        routes_apsrtc = driver.find_elements(By.XPATH, SRTC_locator)\n",
    "        for j in routes_apsrtc:\n",
    "            all_apsrtc.append(j)\n",
    "            routes_apsrtc = []\n",
    "        i.click\n",
    "\n",
    "    return all_apsrtc\n",
    "\n",
    "capture_all_apsrtc()"
   ]
  },
  {
   "cell_type": "code",
   "execution_count": 48,
   "metadata": {},
   "outputs": [],
   "source": [
    "for i in range (5): #This condition looping through APSRTC landing page\n",
    "    capture_all_apsrtc()[i].click()\n",
    "    time.sleep(5)\n",
    "    driver.back()\n",
    "    driver.back()\n",
    "    time.sleep(5)"
   ]
  },
  {
   "cell_type": "code",
   "execution_count": 31,
   "metadata": {},
   "outputs": [],
   "source": [
    "SRTC_locator = \"//a[@class = 'route']\"\n",
    "routes_apsrtc = driver.find_elements(By.XPATH, SRTC_locator)"
   ]
  },
  {
   "cell_type": "code",
   "execution_count": 32,
   "metadata": {},
   "outputs": [
    {
     "data": {
      "text/plain": [
       "[<selenium.webdriver.remote.webelement.WebElement (session=\"27d8d4466ebb3d60994e7b12c0d10b51\", element=\"f.01272542AB728582F772EF7F037DA696.d.5F95EE199499B238C0A20176B3598BE3.e.115\")>,\n",
       " <selenium.webdriver.remote.webelement.WebElement (session=\"27d8d4466ebb3d60994e7b12c0d10b51\", element=\"f.01272542AB728582F772EF7F037DA696.d.5F95EE199499B238C0A20176B3598BE3.e.116\")>,\n",
       " <selenium.webdriver.remote.webelement.WebElement (session=\"27d8d4466ebb3d60994e7b12c0d10b51\", element=\"f.01272542AB728582F772EF7F037DA696.d.5F95EE199499B238C0A20176B3598BE3.e.117\")>,\n",
       " <selenium.webdriver.remote.webelement.WebElement (session=\"27d8d4466ebb3d60994e7b12c0d10b51\", element=\"f.01272542AB728582F772EF7F037DA696.d.5F95EE199499B238C0A20176B3598BE3.e.118\")>,\n",
       " <selenium.webdriver.remote.webelement.WebElement (session=\"27d8d4466ebb3d60994e7b12c0d10b51\", element=\"f.01272542AB728582F772EF7F037DA696.d.5F95EE199499B238C0A20176B3598BE3.e.119\")>,\n",
       " <selenium.webdriver.remote.webelement.WebElement (session=\"27d8d4466ebb3d60994e7b12c0d10b51\", element=\"f.01272542AB728582F772EF7F037DA696.d.5F95EE199499B238C0A20176B3598BE3.e.120\")>,\n",
       " <selenium.webdriver.remote.webelement.WebElement (session=\"27d8d4466ebb3d60994e7b12c0d10b51\", element=\"f.01272542AB728582F772EF7F037DA696.d.5F95EE199499B238C0A20176B3598BE3.e.121\")>,\n",
       " <selenium.webdriver.remote.webelement.WebElement (session=\"27d8d4466ebb3d60994e7b12c0d10b51\", element=\"f.01272542AB728582F772EF7F037DA696.d.5F95EE199499B238C0A20176B3598BE3.e.122\")>,\n",
       " <selenium.webdriver.remote.webelement.WebElement (session=\"27d8d4466ebb3d60994e7b12c0d10b51\", element=\"f.01272542AB728582F772EF7F037DA696.d.5F95EE199499B238C0A20176B3598BE3.e.123\")>,\n",
       " <selenium.webdriver.remote.webelement.WebElement (session=\"27d8d4466ebb3d60994e7b12c0d10b51\", element=\"f.01272542AB728582F772EF7F037DA696.d.5F95EE199499B238C0A20176B3598BE3.e.124\")>]"
      ]
     },
     "execution_count": 32,
     "metadata": {},
     "output_type": "execute_result"
    }
   ],
   "source": [
    "routes_apsrtc"
   ]
  },
  {
   "cell_type": "code",
   "execution_count": 46,
   "metadata": {},
   "outputs": [],
   "source": [
    "driver.back()"
   ]
  },
  {
   "cell_type": "code",
   "execution_count": 28,
   "metadata": {},
   "outputs": [],
   "source": [
    "vijay_hyd[0].click()"
   ]
  },
  {
   "cell_type": "code",
   "execution_count": 7,
   "metadata": {},
   "outputs": [],
   "source": [
    "def back2():\n",
    "    driver.back()\n",
    "    driver.back()"
   ]
  },
  {
   "cell_type": "code",
   "execution_count": null,
   "metadata": {},
   "outputs": [],
   "source": [
    "back2()"
   ]
  },
  {
   "cell_type": "code",
   "execution_count": 31,
   "metadata": {},
   "outputs": [],
   "source": [
    "driver.quit()"
   ]
  },
  {
   "cell_type": "code",
   "execution_count": 64,
   "metadata": {},
   "outputs": [
    {
     "name": "stdout",
     "output_type": "stream",
     "text": [
      "Vijayawada to Hyderabad\n",
      "Hyderabad to Vijayawada\n",
      "Kakinada to Visakhapatnam\n",
      "Visakhapatnam to Kakinada\n",
      "Chittoor (Andhra Pradesh) to Bangalore\n",
      "Kadapa to Bangalore\n",
      "Anantapur (andhra pradesh) to Bangalore\n",
      "Tirupati to Bangalore\n",
      "Visakhapatnam to Vijayawada\n",
      "Ongole to Hyderabad\n"
     ]
    }
   ],
   "source": [
    "routes_apsrtc = driver.find_elements(By.XPATH, \"//a[@class = 'route']\")\n",
    "for i in routes_apsrtc:\n",
    "    print(i.text)"
   ]
  },
  {
   "cell_type": "code",
   "execution_count": 67,
   "metadata": {},
   "outputs": [],
   "source": [
    "total_pages = driver.find_elements(By.XPATH,\"//*[@id='root']/div/div[4]/div[12]/div\")\n",
    "for i in total_pages:\n",
    "    i.click()\n"
   ]
  },
  {
   "cell_type": "code",
   "execution_count": 2,
   "metadata": {},
   "outputs": [
    {
     "data": {
      "text/plain": [
       "[<selenium.webdriver.remote.webelement.WebElement (session=\"058280cc83ac5dc6a1320881580d155d\", element=\"f.B0276F6E596BF2067B3EED225338731B.d.5C4C96C0635A22EC50C3B33674AD6169.e.104\")>,\n",
       " <selenium.webdriver.remote.webelement.WebElement (session=\"058280cc83ac5dc6a1320881580d155d\", element=\"f.B0276F6E596BF2067B3EED225338731B.d.5C4C96C0635A22EC50C3B33674AD6169.e.105\")>,\n",
       " <selenium.webdriver.remote.webelement.WebElement (session=\"058280cc83ac5dc6a1320881580d155d\", element=\"f.B0276F6E596BF2067B3EED225338731B.d.5C4C96C0635A22EC50C3B33674AD6169.e.106\")>,\n",
       " <selenium.webdriver.remote.webelement.WebElement (session=\"058280cc83ac5dc6a1320881580d155d\", element=\"f.B0276F6E596BF2067B3EED225338731B.d.5C4C96C0635A22EC50C3B33674AD6169.e.107\")>,\n",
       " <selenium.webdriver.remote.webelement.WebElement (session=\"058280cc83ac5dc6a1320881580d155d\", element=\"f.B0276F6E596BF2067B3EED225338731B.d.5C4C96C0635A22EC50C3B33674AD6169.e.108\")>,\n",
       " <selenium.webdriver.remote.webelement.WebElement (session=\"058280cc83ac5dc6a1320881580d155d\", element=\"f.B0276F6E596BF2067B3EED225338731B.d.5C4C96C0635A22EC50C3B33674AD6169.e.109\")>,\n",
       " <selenium.webdriver.remote.webelement.WebElement (session=\"058280cc83ac5dc6a1320881580d155d\", element=\"f.B0276F6E596BF2067B3EED225338731B.d.5C4C96C0635A22EC50C3B33674AD6169.e.110\")>,\n",
       " <selenium.webdriver.remote.webelement.WebElement (session=\"058280cc83ac5dc6a1320881580d155d\", element=\"f.B0276F6E596BF2067B3EED225338731B.d.5C4C96C0635A22EC50C3B33674AD6169.e.111\")>,\n",
       " <selenium.webdriver.remote.webelement.WebElement (session=\"058280cc83ac5dc6a1320881580d155d\", element=\"f.B0276F6E596BF2067B3EED225338731B.d.5C4C96C0635A22EC50C3B33674AD6169.e.112\")>,\n",
       " <selenium.webdriver.remote.webelement.WebElement (session=\"058280cc83ac5dc6a1320881580d155d\", element=\"f.B0276F6E596BF2067B3EED225338731B.d.5C4C96C0635A22EC50C3B33674AD6169.e.113\")>,\n",
       " <selenium.webdriver.remote.webelement.WebElement (session=\"058280cc83ac5dc6a1320881580d155d\", element=\"f.B0276F6E596BF2067B3EED225338731B.d.5C4C96C0635A22EC50C3B33674AD6169.e.104\")>,\n",
       " <selenium.webdriver.remote.webelement.WebElement (session=\"058280cc83ac5dc6a1320881580d155d\", element=\"f.B0276F6E596BF2067B3EED225338731B.d.5C4C96C0635A22EC50C3B33674AD6169.e.105\")>,\n",
       " <selenium.webdriver.remote.webelement.WebElement (session=\"058280cc83ac5dc6a1320881580d155d\", element=\"f.B0276F6E596BF2067B3EED225338731B.d.5C4C96C0635A22EC50C3B33674AD6169.e.106\")>,\n",
       " <selenium.webdriver.remote.webelement.WebElement (session=\"058280cc83ac5dc6a1320881580d155d\", element=\"f.B0276F6E596BF2067B3EED225338731B.d.5C4C96C0635A22EC50C3B33674AD6169.e.107\")>,\n",
       " <selenium.webdriver.remote.webelement.WebElement (session=\"058280cc83ac5dc6a1320881580d155d\", element=\"f.B0276F6E596BF2067B3EED225338731B.d.5C4C96C0635A22EC50C3B33674AD6169.e.108\")>,\n",
       " <selenium.webdriver.remote.webelement.WebElement (session=\"058280cc83ac5dc6a1320881580d155d\", element=\"f.B0276F6E596BF2067B3EED225338731B.d.5C4C96C0635A22EC50C3B33674AD6169.e.109\")>,\n",
       " <selenium.webdriver.remote.webelement.WebElement (session=\"058280cc83ac5dc6a1320881580d155d\", element=\"f.B0276F6E596BF2067B3EED225338731B.d.5C4C96C0635A22EC50C3B33674AD6169.e.110\")>,\n",
       " <selenium.webdriver.remote.webelement.WebElement (session=\"058280cc83ac5dc6a1320881580d155d\", element=\"f.B0276F6E596BF2067B3EED225338731B.d.5C4C96C0635A22EC50C3B33674AD6169.e.111\")>,\n",
       " <selenium.webdriver.remote.webelement.WebElement (session=\"058280cc83ac5dc6a1320881580d155d\", element=\"f.B0276F6E596BF2067B3EED225338731B.d.5C4C96C0635A22EC50C3B33674AD6169.e.112\")>,\n",
       " <selenium.webdriver.remote.webelement.WebElement (session=\"058280cc83ac5dc6a1320881580d155d\", element=\"f.B0276F6E596BF2067B3EED225338731B.d.5C4C96C0635A22EC50C3B33674AD6169.e.113\")>,\n",
       " <selenium.webdriver.remote.webelement.WebElement (session=\"058280cc83ac5dc6a1320881580d155d\", element=\"f.B0276F6E596BF2067B3EED225338731B.d.5C4C96C0635A22EC50C3B33674AD6169.e.104\")>,\n",
       " <selenium.webdriver.remote.webelement.WebElement (session=\"058280cc83ac5dc6a1320881580d155d\", element=\"f.B0276F6E596BF2067B3EED225338731B.d.5C4C96C0635A22EC50C3B33674AD6169.e.105\")>,\n",
       " <selenium.webdriver.remote.webelement.WebElement (session=\"058280cc83ac5dc6a1320881580d155d\", element=\"f.B0276F6E596BF2067B3EED225338731B.d.5C4C96C0635A22EC50C3B33674AD6169.e.106\")>,\n",
       " <selenium.webdriver.remote.webelement.WebElement (session=\"058280cc83ac5dc6a1320881580d155d\", element=\"f.B0276F6E596BF2067B3EED225338731B.d.5C4C96C0635A22EC50C3B33674AD6169.e.107\")>,\n",
       " <selenium.webdriver.remote.webelement.WebElement (session=\"058280cc83ac5dc6a1320881580d155d\", element=\"f.B0276F6E596BF2067B3EED225338731B.d.5C4C96C0635A22EC50C3B33674AD6169.e.108\")>,\n",
       " <selenium.webdriver.remote.webelement.WebElement (session=\"058280cc83ac5dc6a1320881580d155d\", element=\"f.B0276F6E596BF2067B3EED225338731B.d.5C4C96C0635A22EC50C3B33674AD6169.e.109\")>,\n",
       " <selenium.webdriver.remote.webelement.WebElement (session=\"058280cc83ac5dc6a1320881580d155d\", element=\"f.B0276F6E596BF2067B3EED225338731B.d.5C4C96C0635A22EC50C3B33674AD6169.e.110\")>,\n",
       " <selenium.webdriver.remote.webelement.WebElement (session=\"058280cc83ac5dc6a1320881580d155d\", element=\"f.B0276F6E596BF2067B3EED225338731B.d.5C4C96C0635A22EC50C3B33674AD6169.e.111\")>,\n",
       " <selenium.webdriver.remote.webelement.WebElement (session=\"058280cc83ac5dc6a1320881580d155d\", element=\"f.B0276F6E596BF2067B3EED225338731B.d.5C4C96C0635A22EC50C3B33674AD6169.e.112\")>,\n",
       " <selenium.webdriver.remote.webelement.WebElement (session=\"058280cc83ac5dc6a1320881580d155d\", element=\"f.B0276F6E596BF2067B3EED225338731B.d.5C4C96C0635A22EC50C3B33674AD6169.e.113\")>,\n",
       " <selenium.webdriver.remote.webelement.WebElement (session=\"058280cc83ac5dc6a1320881580d155d\", element=\"f.B0276F6E596BF2067B3EED225338731B.d.5C4C96C0635A22EC50C3B33674AD6169.e.104\")>,\n",
       " <selenium.webdriver.remote.webelement.WebElement (session=\"058280cc83ac5dc6a1320881580d155d\", element=\"f.B0276F6E596BF2067B3EED225338731B.d.5C4C96C0635A22EC50C3B33674AD6169.e.105\")>,\n",
       " <selenium.webdriver.remote.webelement.WebElement (session=\"058280cc83ac5dc6a1320881580d155d\", element=\"f.B0276F6E596BF2067B3EED225338731B.d.5C4C96C0635A22EC50C3B33674AD6169.e.106\")>,\n",
       " <selenium.webdriver.remote.webelement.WebElement (session=\"058280cc83ac5dc6a1320881580d155d\", element=\"f.B0276F6E596BF2067B3EED225338731B.d.5C4C96C0635A22EC50C3B33674AD6169.e.107\")>,\n",
       " <selenium.webdriver.remote.webelement.WebElement (session=\"058280cc83ac5dc6a1320881580d155d\", element=\"f.B0276F6E596BF2067B3EED225338731B.d.5C4C96C0635A22EC50C3B33674AD6169.e.108\")>,\n",
       " <selenium.webdriver.remote.webelement.WebElement (session=\"058280cc83ac5dc6a1320881580d155d\", element=\"f.B0276F6E596BF2067B3EED225338731B.d.5C4C96C0635A22EC50C3B33674AD6169.e.109\")>,\n",
       " <selenium.webdriver.remote.webelement.WebElement (session=\"058280cc83ac5dc6a1320881580d155d\", element=\"f.B0276F6E596BF2067B3EED225338731B.d.5C4C96C0635A22EC50C3B33674AD6169.e.110\")>,\n",
       " <selenium.webdriver.remote.webelement.WebElement (session=\"058280cc83ac5dc6a1320881580d155d\", element=\"f.B0276F6E596BF2067B3EED225338731B.d.5C4C96C0635A22EC50C3B33674AD6169.e.111\")>,\n",
       " <selenium.webdriver.remote.webelement.WebElement (session=\"058280cc83ac5dc6a1320881580d155d\", element=\"f.B0276F6E596BF2067B3EED225338731B.d.5C4C96C0635A22EC50C3B33674AD6169.e.112\")>,\n",
       " <selenium.webdriver.remote.webelement.WebElement (session=\"058280cc83ac5dc6a1320881580d155d\", element=\"f.B0276F6E596BF2067B3EED225338731B.d.5C4C96C0635A22EC50C3B33674AD6169.e.113\")>,\n",
       " <selenium.webdriver.remote.webelement.WebElement (session=\"058280cc83ac5dc6a1320881580d155d\", element=\"f.B0276F6E596BF2067B3EED225338731B.d.5C4C96C0635A22EC50C3B33674AD6169.e.104\")>,\n",
       " <selenium.webdriver.remote.webelement.WebElement (session=\"058280cc83ac5dc6a1320881580d155d\", element=\"f.B0276F6E596BF2067B3EED225338731B.d.5C4C96C0635A22EC50C3B33674AD6169.e.105\")>,\n",
       " <selenium.webdriver.remote.webelement.WebElement (session=\"058280cc83ac5dc6a1320881580d155d\", element=\"f.B0276F6E596BF2067B3EED225338731B.d.5C4C96C0635A22EC50C3B33674AD6169.e.106\")>,\n",
       " <selenium.webdriver.remote.webelement.WebElement (session=\"058280cc83ac5dc6a1320881580d155d\", element=\"f.B0276F6E596BF2067B3EED225338731B.d.5C4C96C0635A22EC50C3B33674AD6169.e.107\")>,\n",
       " <selenium.webdriver.remote.webelement.WebElement (session=\"058280cc83ac5dc6a1320881580d155d\", element=\"f.B0276F6E596BF2067B3EED225338731B.d.5C4C96C0635A22EC50C3B33674AD6169.e.108\")>,\n",
       " <selenium.webdriver.remote.webelement.WebElement (session=\"058280cc83ac5dc6a1320881580d155d\", element=\"f.B0276F6E596BF2067B3EED225338731B.d.5C4C96C0635A22EC50C3B33674AD6169.e.109\")>,\n",
       " <selenium.webdriver.remote.webelement.WebElement (session=\"058280cc83ac5dc6a1320881580d155d\", element=\"f.B0276F6E596BF2067B3EED225338731B.d.5C4C96C0635A22EC50C3B33674AD6169.e.110\")>,\n",
       " <selenium.webdriver.remote.webelement.WebElement (session=\"058280cc83ac5dc6a1320881580d155d\", element=\"f.B0276F6E596BF2067B3EED225338731B.d.5C4C96C0635A22EC50C3B33674AD6169.e.111\")>,\n",
       " <selenium.webdriver.remote.webelement.WebElement (session=\"058280cc83ac5dc6a1320881580d155d\", element=\"f.B0276F6E596BF2067B3EED225338731B.d.5C4C96C0635A22EC50C3B33674AD6169.e.112\")>,\n",
       " <selenium.webdriver.remote.webelement.WebElement (session=\"058280cc83ac5dc6a1320881580d155d\", element=\"f.B0276F6E596BF2067B3EED225338731B.d.5C4C96C0635A22EC50C3B33674AD6169.e.113\")>]"
      ]
     },
     "execution_count": 2,
     "metadata": {},
     "output_type": "execute_result"
    }
   ],
   "source": [
    "total_pages = driver.find_elements(By.XPATH,\"//*[@id='root']/div/div[4]/div[12]/div\")\n",
    "all_apsrtc = []\n",
    "for i in total_pages:\n",
    "    routes_apsrtc = driver.find_elements(By.XPATH, \"//a[@class = 'route']\")\n",
    "    for j in routes_apsrtc:\n",
    "        all_apsrtc.append(j)\n",
    "        routes_apsrtc = []\n",
    "    i.click\n",
    "\n",
    "all_apsrtc"
   ]
  },
  {
   "cell_type": "code",
   "execution_count": 3,
   "metadata": {},
   "outputs": [
    {
     "data": {
      "text/plain": [
       "50"
      ]
     },
     "execution_count": 3,
     "metadata": {},
     "output_type": "execute_result"
    }
   ],
   "source": [
    "len(all_apsrtc)"
   ]
  },
  {
   "cell_type": "code",
   "execution_count": 21,
   "metadata": {},
   "outputs": [],
   "source": [
    "driver.back()"
   ]
  },
  {
   "cell_type": "code",
   "execution_count": 78,
   "metadata": {},
   "outputs": [],
   "source": [
    "driver.quit()"
   ]
  },
  {
   "cell_type": "code",
   "execution_count": 20,
   "metadata": {},
   "outputs": [],
   "source": [
    "apsrtc = driver.find_elements(By.XPATH, \"/html/body/section/div[2]/main/div[3]/div[3]/div[2]/div/div[1]/div[1]/div[1]/div[2]/div[1]/div[1]\")\n",
    "apsrtc[0].click()\n",
    "time.sleep(5)"
   ]
  },
  {
   "cell_type": "code",
   "execution_count": 33,
   "metadata": {},
   "outputs": [],
   "source": [
    "driver.quit()"
   ]
  },
  {
   "cell_type": "code",
   "execution_count": 22,
   "metadata": {},
   "outputs": [
    {
     "data": {
      "text/plain": [
       "<selenium.webdriver.remote.webelement.WebElement (session=\"27685cc17db4c2f8a1c4325fa7985df1\", element=\"f.D1E9BDF120C37501AEB72D7140F2A8C9.d.B1BE916B9978ECD95B8B7C3E41C0E5DC.e.127\")>"
      ]
     },
     "execution_count": 22,
     "metadata": {},
     "output_type": "execute_result"
    }
   ],
   "source": [
    "apsrtc[0]"
   ]
  },
  {
   "cell_type": "code",
   "execution_count": null,
   "metadata": {},
   "outputs": [],
   "source": []
  }
 ],
 "metadata": {
  "kernelspec": {
   "display_name": "Python 3",
   "language": "python",
   "name": "python3"
  },
  "language_info": {
   "codemirror_mode": {
    "name": "ipython",
    "version": 3
   },
   "file_extension": ".py",
   "mimetype": "text/x-python",
   "name": "python",
   "nbconvert_exporter": "python",
   "pygments_lexer": "ipython3",
   "version": "3.9.6"
  }
 },
 "nbformat": 4,
 "nbformat_minor": 2
}
