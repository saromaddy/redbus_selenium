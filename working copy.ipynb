{
 "cells": [
  {
   "cell_type": "code",
   "execution_count": 1,
   "metadata": {},
   "outputs": [],
   "source": [
    "#importing necessary libraries\n",
    "from selenium import webdriver\n",
    "from selenium.webdriver.common.keys import Keys\n",
    "from selenium.webdriver.common.by import By\n",
    "from selenium.webdriver import ActionChains\n",
    "from selenium.common.exceptions import TimeoutException,NoSuchElementException\n",
    "from selenium.webdriver.support.ui import WebDriverWait\n",
    "from selenium.webdriver.support import expected_conditions as EC\n",
    "import time\n",
    "import pandas as pd\n",
    "import sqlalchemy\n",
    "import json"
   ]
  },
  {
   "cell_type": "code",
   "execution_count": 2,
   "metadata": {},
   "outputs": [],
   "source": [
    "statelinks = [\n",
    "    'https://www.redbus.in/online-booking/apsrtc/?utm_source=rtchometile',\n",
    "    'https://www.redbus.in/online-booking/tsrtc/?utm_source=rtchometile',\n",
    "    'https://www.redbus.in/online-booking/ksrtc-kerala/?utm_source=rtchometile',\n",
    "    'https://www.redbus.in/online-booking/south-bengal-state-transport-corporation-sbstc/?utm_source=rtchometile',\n",
    "    'https://www.redbus.in/online-booking/west-bengal-transport-corporation?utm_source=rtchometile',\n",
    "    'https://www.redbus.in/online-booking/bihar-state-road-transport-corporation-bsrtc/?utm_source=rtchometile',\n",
    "    'https://www.redbus.in/online-booking/hrtc/?utm_source=rtchometile',\n",
    "    'https://www.redbus.in/online-booking/rsrtc/?utm_source=rtchometile',\n",
    "    'https://www.redbus.in/online-booking/pepsu/?utm_source=rtchometile',\n",
    "    'https://www.redbus.in/online-booking/astc/?utm_source=rtchometile'\n",
    "]"
   ]
  },
  {
   "cell_type": "code",
   "execution_count": 3,
   "metadata": {},
   "outputs": [
    {
     "data": {
      "text/plain": [
       "10"
      ]
     },
     "execution_count": 3,
     "metadata": {},
     "output_type": "execute_result"
    }
   ],
   "source": [
    "len(statelinks)"
   ]
  },
  {
   "cell_type": "code",
   "execution_count": 4,
   "metadata": {},
   "outputs": [],
   "source": [
    "driver = webdriver.Chrome()\n",
    "driver.get(statelinks[2]) #KSRTC\n",
    "time.sleep(3)\n",
    "driver.maximize_window()"
   ]
  },
  {
   "cell_type": "code",
   "execution_count": 34,
   "metadata": {},
   "outputs": [],
   "source": [
    "def container_moving(num):\n",
    "    scroll_pixel = num  # Pixels to scroll\n",
    "    driver.execute_script(f\"window.scrollTo(0, {scroll_pixel});\")\n",
    "    time.sleep(2)  # Adjust sleep time for smoother scrolling"
   ]
  },
  {
   "cell_type": "code",
   "execution_count": 37,
   "metadata": {},
   "outputs": [],
   "source": [
    "wait = WebDriverWait(driver,20)\n",
    "def Kerala(path):\n",
    "    links_kerala = []\n",
    "    route_kerala = []\n",
    "    #retrieving route links\n",
    "    for i in range(1,3):\n",
    "        paths = driver.find_elements(By.XPATH,path)\n",
    "\n",
    "        for link in paths:\n",
    "            d = link.get_attribute('href')\n",
    "            links_kerala.append(d)\n",
    "        \n",
    "        #retrieve names of the route\n",
    "\n",
    "        for route in paths:\n",
    "            route_kerala.append(route.text)\n",
    "\n",
    "        try:\n",
    "            #wait for pagination element to be present\n",
    "            pagination = wait.until(EC.presence_of_all_elements_located((By.XPATH, \"//div[@class = 'DC_117_paginationTable']\")))\n",
    "            next_button = pagination[0].find_element(By.XPATH, f'//div[@class = \"DC_117_pageTabs \" and text() = {i+1}]')\n",
    "            driver.execute_script(\"arguments[0].scrollIntoView();\", next_button)\n",
    "            time.sleep(4)\n",
    "            next_button.click()\n",
    "        except NoSuchElementException:\n",
    "            print(f\"No more pages to paginate at step {i}\")\n",
    "            break\n",
    "    \n",
    "    return links_kerala,route_kerala\n"
   ]
  },
  {
   "cell_type": "code",
   "execution_count": 38,
   "metadata": {},
   "outputs": [
    {
     "name": "stdout",
     "output_type": "stream",
     "text": [
      "No more pages to paginate at step 2\n"
     ]
    }
   ],
   "source": [
    "links_kerala,route_kerala = Kerala(\"//a[@class = 'route']\")"
   ]
  },
  {
   "cell_type": "code",
   "execution_count": 39,
   "metadata": {},
   "outputs": [
    {
     "data": {
      "text/plain": [
       "['Bangalore to Kozhikode',\n",
       " 'Kozhikode to Ernakulam',\n",
       " 'Kozhikode to Bangalore',\n",
       " 'Ernakulam to Kozhikode',\n",
       " 'Kozhikode to Mysore',\n",
       " 'Kozhikode to Thiruvananthapuram',\n",
       " 'Bangalore to Kalpetta (kerala)',\n",
       " 'Mysore to Kozhikode',\n",
       " 'Kalpetta (kerala) to Bangalore',\n",
       " 'Kozhikode to Thrissur',\n",
       " 'Thiruvananthapuram to Kozhikode',\n",
       " 'Bangalore to Kannur',\n",
       " 'Kozhikode to Kottayam',\n",
       " 'Kannur to Bangalore',\n",
       " 'Kottayam to Kozhikode',\n",
       " 'Thrissur to Kozhikode',\n",
       " 'Kozhikode to Kalpetta (kerala)',\n",
       " 'Coimbatore to Ooty',\n",
       " 'Kalpetta (kerala) to Kozhikode']"
      ]
     },
     "execution_count": 39,
     "metadata": {},
     "output_type": "execute_result"
    }
   ],
   "source": [
    "route_kerala"
   ]
  },
  {
   "cell_type": "code",
   "execution_count": 44,
   "metadata": {},
   "outputs": [
    {
     "data": {
      "text/html": [
       "<div>\n",
       "<style scoped>\n",
       "    .dataframe tbody tr th:only-of-type {\n",
       "        vertical-align: middle;\n",
       "    }\n",
       "\n",
       "    .dataframe tbody tr th {\n",
       "        vertical-align: top;\n",
       "    }\n",
       "\n",
       "    .dataframe thead th {\n",
       "        text-align: right;\n",
       "    }\n",
       "</style>\n",
       "<table border=\"1\" class=\"dataframe\">\n",
       "  <thead>\n",
       "    <tr style=\"text-align: right;\">\n",
       "      <th></th>\n",
       "      <th>Route_Name</th>\n",
       "      <th>Route_link</th>\n",
       "    </tr>\n",
       "  </thead>\n",
       "  <tbody>\n",
       "    <tr>\n",
       "      <th>0</th>\n",
       "      <td>Bangalore to Kozhikode</td>\n",
       "      <td>https://www.redbus.in/bus-tickets/bangalore-to...</td>\n",
       "    </tr>\n",
       "    <tr>\n",
       "      <th>1</th>\n",
       "      <td>Kozhikode to Ernakulam</td>\n",
       "      <td>https://www.redbus.in/bus-tickets/kozhikode-to...</td>\n",
       "    </tr>\n",
       "    <tr>\n",
       "      <th>2</th>\n",
       "      <td>Kozhikode to Bangalore</td>\n",
       "      <td>https://www.redbus.in/bus-tickets/kozhikode-to...</td>\n",
       "    </tr>\n",
       "    <tr>\n",
       "      <th>3</th>\n",
       "      <td>Ernakulam to Kozhikode</td>\n",
       "      <td>https://www.redbus.in/bus-tickets/ernakulam-to...</td>\n",
       "    </tr>\n",
       "    <tr>\n",
       "      <th>4</th>\n",
       "      <td>Kozhikode to Mysore</td>\n",
       "      <td>https://www.redbus.in/bus-tickets/kozhikode-to...</td>\n",
       "    </tr>\n",
       "    <tr>\n",
       "      <th>5</th>\n",
       "      <td>Kozhikode to Thiruvananthapuram</td>\n",
       "      <td>https://www.redbus.in/bus-tickets/kozhikode-to...</td>\n",
       "    </tr>\n",
       "    <tr>\n",
       "      <th>6</th>\n",
       "      <td>Bangalore to Kalpetta (kerala)</td>\n",
       "      <td>https://www.redbus.in/bus-tickets/bangalore-to...</td>\n",
       "    </tr>\n",
       "    <tr>\n",
       "      <th>7</th>\n",
       "      <td>Mysore to Kozhikode</td>\n",
       "      <td>https://www.redbus.in/bus-tickets/mysore-to-ko...</td>\n",
       "    </tr>\n",
       "    <tr>\n",
       "      <th>8</th>\n",
       "      <td>Kalpetta (kerala) to Bangalore</td>\n",
       "      <td>https://www.redbus.in/bus-tickets/kalpetta-to-...</td>\n",
       "    </tr>\n",
       "    <tr>\n",
       "      <th>9</th>\n",
       "      <td>Kozhikode to Thrissur</td>\n",
       "      <td>https://www.redbus.in/bus-tickets/kozhikode-to...</td>\n",
       "    </tr>\n",
       "    <tr>\n",
       "      <th>10</th>\n",
       "      <td>Thiruvananthapuram to Kozhikode</td>\n",
       "      <td>https://www.redbus.in/bus-tickets/thiruvananth...</td>\n",
       "    </tr>\n",
       "    <tr>\n",
       "      <th>11</th>\n",
       "      <td>Bangalore to Kannur</td>\n",
       "      <td>https://www.redbus.in/bus-tickets/bangalore-to...</td>\n",
       "    </tr>\n",
       "    <tr>\n",
       "      <th>12</th>\n",
       "      <td>Kozhikode to Kottayam</td>\n",
       "      <td>https://www.redbus.in/bus-tickets/kozhikode-to...</td>\n",
       "    </tr>\n",
       "    <tr>\n",
       "      <th>13</th>\n",
       "      <td>Kannur to Bangalore</td>\n",
       "      <td>https://www.redbus.in/bus-tickets/kannur-to-ba...</td>\n",
       "    </tr>\n",
       "    <tr>\n",
       "      <th>14</th>\n",
       "      <td>Kottayam to Kozhikode</td>\n",
       "      <td>https://www.redbus.in/bus-tickets/kottayam-to-...</td>\n",
       "    </tr>\n",
       "    <tr>\n",
       "      <th>15</th>\n",
       "      <td>Thrissur to Kozhikode</td>\n",
       "      <td>https://www.redbus.in/bus-tickets/thrissur-to-...</td>\n",
       "    </tr>\n",
       "    <tr>\n",
       "      <th>16</th>\n",
       "      <td>Kozhikode to Kalpetta (kerala)</td>\n",
       "      <td>https://www.redbus.in/bus-tickets/kozhikode-to...</td>\n",
       "    </tr>\n",
       "    <tr>\n",
       "      <th>17</th>\n",
       "      <td>Coimbatore to Ooty</td>\n",
       "      <td>https://www.redbus.in/bus-tickets/coimbatore-t...</td>\n",
       "    </tr>\n",
       "    <tr>\n",
       "      <th>18</th>\n",
       "      <td>Kalpetta (kerala) to Kozhikode</td>\n",
       "      <td>https://www.redbus.in/bus-tickets/kalpetta-to-...</td>\n",
       "    </tr>\n",
       "  </tbody>\n",
       "</table>\n",
       "</div>"
      ],
      "text/plain": [
       "                         Route_Name  \\\n",
       "0            Bangalore to Kozhikode   \n",
       "1            Kozhikode to Ernakulam   \n",
       "2            Kozhikode to Bangalore   \n",
       "3            Ernakulam to Kozhikode   \n",
       "4               Kozhikode to Mysore   \n",
       "5   Kozhikode to Thiruvananthapuram   \n",
       "6    Bangalore to Kalpetta (kerala)   \n",
       "7               Mysore to Kozhikode   \n",
       "8    Kalpetta (kerala) to Bangalore   \n",
       "9             Kozhikode to Thrissur   \n",
       "10  Thiruvananthapuram to Kozhikode   \n",
       "11              Bangalore to Kannur   \n",
       "12            Kozhikode to Kottayam   \n",
       "13              Kannur to Bangalore   \n",
       "14            Kottayam to Kozhikode   \n",
       "15            Thrissur to Kozhikode   \n",
       "16   Kozhikode to Kalpetta (kerala)   \n",
       "17               Coimbatore to Ooty   \n",
       "18   Kalpetta (kerala) to Kozhikode   \n",
       "\n",
       "                                           Route_link  \n",
       "0   https://www.redbus.in/bus-tickets/bangalore-to...  \n",
       "1   https://www.redbus.in/bus-tickets/kozhikode-to...  \n",
       "2   https://www.redbus.in/bus-tickets/kozhikode-to...  \n",
       "3   https://www.redbus.in/bus-tickets/ernakulam-to...  \n",
       "4   https://www.redbus.in/bus-tickets/kozhikode-to...  \n",
       "5   https://www.redbus.in/bus-tickets/kozhikode-to...  \n",
       "6   https://www.redbus.in/bus-tickets/bangalore-to...  \n",
       "7   https://www.redbus.in/bus-tickets/mysore-to-ko...  \n",
       "8   https://www.redbus.in/bus-tickets/kalpetta-to-...  \n",
       "9   https://www.redbus.in/bus-tickets/kozhikode-to...  \n",
       "10  https://www.redbus.in/bus-tickets/thiruvananth...  \n",
       "11  https://www.redbus.in/bus-tickets/bangalore-to...  \n",
       "12  https://www.redbus.in/bus-tickets/kozhikode-to...  \n",
       "13  https://www.redbus.in/bus-tickets/kannur-to-ba...  \n",
       "14  https://www.redbus.in/bus-tickets/kottayam-to-...  \n",
       "15  https://www.redbus.in/bus-tickets/thrissur-to-...  \n",
       "16  https://www.redbus.in/bus-tickets/kozhikode-to...  \n",
       "17  https://www.redbus.in/bus-tickets/coimbatore-t...  \n",
       "18  https://www.redbus.in/bus-tickets/kalpetta-to-...  "
      ]
     },
     "execution_count": 44,
     "metadata": {},
     "output_type": "execute_result"
    }
   ],
   "source": [
    "df_k = pd.DataFrame({'Route_Name':route_kerala, 'Route_link':links_kerala})\n",
    "df_k"
   ]
  },
  {
   "cell_type": "code",
   "execution_count": 46,
   "metadata": {},
   "outputs": [],
   "source": [
    "df_k.to_csv('/Users/saro/Desktop/redbus_selenium/df_k.csv',index=False)"
   ]
  },
  {
   "cell_type": "code",
   "execution_count": null,
   "metadata": {},
   "outputs": [],
   "source": [
    "driver_k = webdriver.Chrome()\n",
    "busnames_k = []\n",
    "bustypes_k = []\n",
    "dept_k = []\n",
    "endtime_k = []\n",
    "ratings_k = []\n",
    "duration_k = []\n",
    "prices_k = []\n",
    "seatavailable_k = []\n",
    "routenames = []\n",
    "routelinks = []\n",
    "\n",
    "for iter i"
   ]
  }
 ],
 "metadata": {
  "kernelspec": {
   "display_name": "Python 3",
   "language": "python",
   "name": "python3"
  },
  "language_info": {
   "codemirror_mode": {
    "name": "ipython",
    "version": 3
   },
   "file_extension": ".py",
   "mimetype": "text/x-python",
   "name": "python",
   "nbconvert_exporter": "python",
   "pygments_lexer": "ipython3",
   "version": "3.9.6"
  }
 },
 "nbformat": 4,
 "nbformat_minor": 2
}
